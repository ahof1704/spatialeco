{
 "cells": [
  {
   "cell_type": "markdown",
   "metadata": {
    "nbpresent": {
     "id": "a20290f5-2a26-4622-9e8b-ce94cc1dcb1a"
    },
    "slideshow": {
     "slide_type": "slide"
    }
   },
   "source": [
    "# <center>Case Study</center>\n",
    "<p>\n",
    "## <center>Lorenzo di Bari</center> \n",
    "<p>\n",
    "## <center><i>Spatial Ecology</i></center>\n",
    "<p>\n",
    "## <center>Jun 2019</center>"
   ]
  },
  {
   "cell_type": "markdown",
   "metadata": {
    "nbpresent": {
     "id": "494d6527-1db0-4bca-a3a9-ea7d28eed532"
    },
    "slideshow": {
     "slide_type": "slide"
    }
   },
   "source": [
    "## BackGround \n",
    "- Geoenviornmental variables \n",
    "- Ground observationd : Nitrogen in US streams  "
   ]
  },
  {
   "cell_type": "markdown",
   "metadata": {
    "nbpresent": {
     "id": "e675a434-eb22-4d12-a159-d6464ec9d916"
    },
    "slideshow": {
     "slide_type": "slide"
    }
   },
   "source": [
    "## Code"
   ]
  },
  {
   "cell_type": "code",
   "execution_count": 1,
   "metadata": {
    "nbpresent": {
     "id": "8f67df50-3050-47d2-a5d9-4329a61325fa"
    },
    "slideshow": {
     "slide_type": "fragment"
    }
   },
   "outputs": [],
   "source": [
    "import pandas as pd\n",
    "import numpy as np\n",
    "from sklearn.ensemble import RandomForestRegressor as RFReg\n",
    "from sklearn.model_selection import train_test_split\n",
    "from scipy.stats.stats import pearsonr\n",
    "import matplotlib.pyplot as plt"
   ]
  },
  {
   "cell_type": "markdown",
   "metadata": {
    "nbpresent": {
     "id": "cf3cb8c6-45f0-48de-b171-598ebf92904f"
    },
    "slideshow": {
     "slide_type": "slide"
    }
   },
   "source": [
    "read in data"
   ]
  },
  {
   "cell_type": "code",
   "execution_count": 2,
   "metadata": {
    "slideshow": {
     "slide_type": "fragment"
    }
   },
   "outputs": [
    {
     "data": {
      "text/html": [
       "<div>\n",
       "<style scoped>\n",
       "    .dataframe tbody tr th:only-of-type {\n",
       "        vertical-align: middle;\n",
       "    }\n",
       "\n",
       "    .dataframe tbody tr th {\n",
       "        vertical-align: top;\n",
       "    }\n",
       "\n",
       "    .dataframe thead th {\n",
       "        text-align: right;\n",
       "    }\n",
       "</style>\n",
       "<table border=\"1\" class=\"dataframe\">\n",
       "  <thead>\n",
       "    <tr style=\"text-align: right;\">\n",
       "      <th></th>\n",
       "      <th>longitude</th>\n",
       "      <th>latitude</th>\n",
       "      <th>mean</th>\n",
       "      <th>std</th>\n",
       "      <th>cv</th>\n",
       "      <th>lc01</th>\n",
       "      <th>lc02</th>\n",
       "      <th>lc03</th>\n",
       "      <th>lc04</th>\n",
       "      <th>lc05</th>\n",
       "      <th>...</th>\n",
       "      <th>hydro16</th>\n",
       "      <th>hydro17</th>\n",
       "      <th>hydro18</th>\n",
       "      <th>hydro19</th>\n",
       "      <th>dem</th>\n",
       "      <th>slope</th>\n",
       "      <th>order</th>\n",
       "      <th>RVunif</th>\n",
       "      <th>bcmean</th>\n",
       "      <th>RVunif_bc</th>\n",
       "    </tr>\n",
       "  </thead>\n",
       "  <tbody>\n",
       "    <tr>\n",
       "      <th>0</th>\n",
       "      <td>-123.240272</td>\n",
       "      <td>45.443739</td>\n",
       "      <td>0.2510</td>\n",
       "      <td>0.1094</td>\n",
       "      <td>0.3501</td>\n",
       "      <td>66</td>\n",
       "      <td>0</td>\n",
       "      <td>1</td>\n",
       "      <td>33</td>\n",
       "      <td>0</td>\n",
       "      <td>...</td>\n",
       "      <td>182937</td>\n",
       "      <td>21313</td>\n",
       "      <td>182937</td>\n",
       "      <td>21313</td>\n",
       "      <td>498</td>\n",
       "      <td>407</td>\n",
       "      <td>2</td>\n",
       "      <td>20.115164</td>\n",
       "      <td>-1.435592</td>\n",
       "      <td>-2.033112</td>\n",
       "    </tr>\n",
       "    <tr>\n",
       "      <th>1</th>\n",
       "      <td>-123.195833</td>\n",
       "      <td>45.470833</td>\n",
       "      <td>0.3532</td>\n",
       "      <td>0.0584</td>\n",
       "      <td>0.1666</td>\n",
       "      <td>53</td>\n",
       "      <td>0</td>\n",
       "      <td>2</td>\n",
       "      <td>43</td>\n",
       "      <td>0</td>\n",
       "      <td>...</td>\n",
       "      <td>155202</td>\n",
       "      <td>18107</td>\n",
       "      <td>155202</td>\n",
       "      <td>18107</td>\n",
       "      <td>365</td>\n",
       "      <td>402</td>\n",
       "      <td>2</td>\n",
       "      <td>30.902325</td>\n",
       "      <td>-1.070739</td>\n",
       "      <td>-0.020136</td>\n",
       "    </tr>\n",
       "    <tr>\n",
       "      <th>2</th>\n",
       "      <td>-123.183454</td>\n",
       "      <td>46.181221</td>\n",
       "      <td>0.6259</td>\n",
       "      <td>0.1196</td>\n",
       "      <td>0.1854</td>\n",
       "      <td>28</td>\n",
       "      <td>0</td>\n",
       "      <td>15</td>\n",
       "      <td>45</td>\n",
       "      <td>23</td>\n",
       "      <td>...</td>\n",
       "      <td>310689856</td>\n",
       "      <td>136347296</td>\n",
       "      <td>310689856</td>\n",
       "      <td>136347296</td>\n",
       "      <td>1470</td>\n",
       "      <td>492</td>\n",
       "      <td>8</td>\n",
       "      <td>48.924205</td>\n",
       "      <td>-0.474586</td>\n",
       "      <td>-0.257662</td>\n",
       "    </tr>\n",
       "    <tr>\n",
       "      <th>3</th>\n",
       "      <td>-123.169589</td>\n",
       "      <td>45.541311</td>\n",
       "      <td>0.4808</td>\n",
       "      <td>0.1551</td>\n",
       "      <td>0.3282</td>\n",
       "      <td>59</td>\n",
       "      <td>0</td>\n",
       "      <td>2</td>\n",
       "      <td>33</td>\n",
       "      <td>0</td>\n",
       "      <td>...</td>\n",
       "      <td>302169</td>\n",
       "      <td>37266</td>\n",
       "      <td>302169</td>\n",
       "      <td>37266</td>\n",
       "      <td>342</td>\n",
       "      <td>467</td>\n",
       "      <td>2</td>\n",
       "      <td>10.955647</td>\n",
       "      <td>-0.747083</td>\n",
       "      <td>0.341342</td>\n",
       "    </tr>\n",
       "    <tr>\n",
       "      <th>4</th>\n",
       "      <td>-123.155663</td>\n",
       "      <td>45.458725</td>\n",
       "      <td>0.5596</td>\n",
       "      <td>0.1833</td>\n",
       "      <td>0.3275</td>\n",
       "      <td>52</td>\n",
       "      <td>0</td>\n",
       "      <td>2</td>\n",
       "      <td>43</td>\n",
       "      <td>0</td>\n",
       "      <td>...</td>\n",
       "      <td>167904</td>\n",
       "      <td>19575</td>\n",
       "      <td>167904</td>\n",
       "      <td>19575</td>\n",
       "      <td>341</td>\n",
       "      <td>391</td>\n",
       "      <td>2</td>\n",
       "      <td>48.396582</td>\n",
       "      <td>-0.589795</td>\n",
       "      <td>-0.007340</td>\n",
       "    </tr>\n",
       "    <tr>\n",
       "      <th>5</th>\n",
       "      <td>-123.124274</td>\n",
       "      <td>45.474837</td>\n",
       "      <td>0.7127</td>\n",
       "      <td>0.2210</td>\n",
       "      <td>0.3340</td>\n",
       "      <td>46</td>\n",
       "      <td>0</td>\n",
       "      <td>3</td>\n",
       "      <td>33</td>\n",
       "      <td>0</td>\n",
       "      <td>...</td>\n",
       "      <td>470310</td>\n",
       "      <td>55128</td>\n",
       "      <td>470310</td>\n",
       "      <td>55128</td>\n",
       "      <td>315</td>\n",
       "      <td>353</td>\n",
       "      <td>3</td>\n",
       "      <td>50.883960</td>\n",
       "      <td>-0.341834</td>\n",
       "      <td>3.105412</td>\n",
       "    </tr>\n",
       "  </tbody>\n",
       "</table>\n",
       "<p>6 rows × 55 columns</p>\n",
       "</div>"
      ],
      "text/plain": [
       "    longitude   latitude    mean     std      cv  lc01  lc02  lc03  lc04  \\\n",
       "0 -123.240272  45.443739  0.2510  0.1094  0.3501    66     0     1    33   \n",
       "1 -123.195833  45.470833  0.3532  0.0584  0.1666    53     0     2    43   \n",
       "2 -123.183454  46.181221  0.6259  0.1196  0.1854    28     0    15    45   \n",
       "3 -123.169589  45.541311  0.4808  0.1551  0.3282    59     0     2    33   \n",
       "4 -123.155663  45.458725  0.5596  0.1833  0.3275    52     0     2    43   \n",
       "5 -123.124274  45.474837  0.7127  0.2210  0.3340    46     0     3    33   \n",
       "\n",
       "   lc05  ...    hydro16    hydro17    hydro18    hydro19   dem  slope  order  \\\n",
       "0     0  ...     182937      21313     182937      21313   498    407      2   \n",
       "1     0  ...     155202      18107     155202      18107   365    402      2   \n",
       "2    23  ...  310689856  136347296  310689856  136347296  1470    492      8   \n",
       "3     0  ...     302169      37266     302169      37266   342    467      2   \n",
       "4     0  ...     167904      19575     167904      19575   341    391      2   \n",
       "5     0  ...     470310      55128     470310      55128   315    353      3   \n",
       "\n",
       "      RVunif    bcmean  RVunif_bc  \n",
       "0  20.115164 -1.435592  -2.033112  \n",
       "1  30.902325 -1.070739  -0.020136  \n",
       "2  48.924205 -0.474586  -0.257662  \n",
       "3  10.955647 -0.747083   0.341342  \n",
       "4  48.396582 -0.589795  -0.007340  \n",
       "5  50.883960 -0.341834   3.105412  \n",
       "\n",
       "[6 rows x 55 columns]"
      ]
     },
     "execution_count": 2,
     "metadata": {},
     "output_type": "execute_result"
    }
   ],
   "source": [
    "dsIn = pd.read_csv(\"../US_TN_season_1_proc.csv\")\n",
    "dsIn.head(6)"
   ]
  },
  {
   "cell_type": "code",
   "execution_count": 3,
   "metadata": {
    "slideshow": {
     "slide_type": "fragment"
    }
   },
   "outputs": [
    {
     "data": {
      "text/plain": [
       "array(['longitude', 'latitude', 'mean', 'std', 'cv', 'lc01', 'lc02',\n",
       "       'lc03', 'lc04', 'lc05', 'lc06', 'lc07', 'lc08', 'lc09', 'lc10',\n",
       "       'lc11', 'lc12', 'prec', 'tmin', 'tmax', 'soil01', 'soil02',\n",
       "       'soil03', 'soil04', 'soil05', 'soil06', 'soil07', 'soil08',\n",
       "       'soil09', 'soil10', 'hydro01', 'hydro02', 'hydro03', 'hydro04',\n",
       "       'hydro05', 'hydro06', 'hydro07', 'hydro08', 'hydro09', 'hydro10',\n",
       "       'hydro11', 'hydro12', 'hydro13', 'hydro14', 'hydro15', 'hydro16',\n",
       "       'hydro17', 'hydro18', 'hydro19', 'dem', 'slope', 'order', 'RVunif',\n",
       "       'bcmean', 'RVunif_bc'], dtype=object)"
      ]
     },
     "execution_count": 3,
     "metadata": {},
     "output_type": "execute_result"
    }
   ],
   "source": [
    "dsIn.columns.values"
   ]
  },
  {
   "cell_type": "code",
   "execution_count": 4,
   "metadata": {},
   "outputs": [],
   "source": [
    "X = dsIn.iloc[:,5:52].values\n",
    "Y = dsIn.iloc[:,53:54].values"
   ]
  },
  {
   "cell_type": "code",
   "execution_count": 28,
   "metadata": {},
   "outputs": [
    {
     "data": {
      "text/plain": [
       "(1118, 47)"
      ]
     },
     "execution_count": 28,
     "metadata": {},
     "output_type": "execute_result"
    }
   ],
   "source": [
    "X.shape"
   ]
  },
  {
   "cell_type": "code",
   "execution_count": 34,
   "metadata": {},
   "outputs": [
    {
     "data": {
      "text/plain": [
       "(1118, 1)"
      ]
     },
     "execution_count": 34,
     "metadata": {},
     "output_type": "execute_result"
    }
   ],
   "source": [
    "Y.shape"
   ]
  },
  {
   "cell_type": "raw",
   "metadata": {},
   "source": [
    "model building"
   ]
  },
  {
   "cell_type": "code",
   "execution_count": 5,
   "metadata": {},
   "outputs": [
    {
     "data": {
      "text/plain": [
       "RandomForestRegressor(bootstrap=True, criterion='mse', max_depth=None,\n",
       "                      max_features='auto', max_leaf_nodes=None,\n",
       "                      min_impurity_decrease=0.0, min_impurity_split=None,\n",
       "                      min_samples_leaf=1, min_samples_split=2,\n",
       "                      min_weight_fraction_leaf=0.0, n_estimators=100,\n",
       "                      n_jobs=None, oob_score=False, random_state=24, verbose=0,\n",
       "                      warm_start=False)"
      ]
     },
     "execution_count": 5,
     "metadata": {},
     "output_type": "execute_result"
    }
   ],
   "source": [
    "X_train, X_test, Y_train, Y_test = train_test_split(X, Y, test_size=0.5, random_state=24)\n",
    "y_train = np.ravel(Y_train)\n",
    "y_test = np.ravel(Y_test)\n",
    "regressor = RFReg(n_estimators=100, random_state=24)  \n",
    "regressor.fit(X_train, y_train)"
   ]
  },
  {
   "cell_type": "code",
   "execution_count": 6,
   "metadata": {},
   "outputs": [],
   "source": [
    "dic_pred = {}\n",
    "dic_pred['train'] = regressor.predict(X_train)\n",
    "dic_pred['test'] = regressor.predict(X_test)"
   ]
  },
  {
   "cell_type": "raw",
   "metadata": {},
   "source": [
    "model eval"
   ]
  },
  {
   "cell_type": "code",
   "execution_count": 7,
   "metadata": {},
   "outputs": [
    {
     "data": {
      "text/plain": [
       "[0.9790625406279887, 0.8027433365286146]"
      ]
     },
     "execution_count": 7,
     "metadata": {},
     "output_type": "execute_result"
    }
   ],
   "source": [
    "[pearsonr(dic_pred['train'],y_train)[0],pearsonr(dic_pred['test'],y_test)[0]]"
   ]
  },
  {
   "cell_type": "code",
   "execution_count": 8,
   "metadata": {},
   "outputs": [
    {
     "data": {
      "text/plain": [
       "[<matplotlib.lines.Line2D at 0x7fb2f1c78390>]"
      ]
     },
     "execution_count": 8,
     "metadata": {},
     "output_type": "execute_result"
    },
    {
     "data": {
      "image/png": "[encoded data removed]",
      "text/plain": [
       "<Figure size 432x288 with 1 Axes>"
      ]
     },
     "metadata": {
      "needs_background": "light"
     },
     "output_type": "display_data"
    }
   ],
   "source": [
    "plt.scatter(y_train,dic_pred['train'])\n",
    "plt.xlabel('orig')\n",
    "plt.ylabel('pred')\n",
    "ident = [-1.5, 2]\n",
    "plt.plot(ident,ident,'r--')"
   ]
  },
  {
   "cell_type": "code",
   "execution_count": 9,
   "metadata": {},
   "outputs": [
    {
     "data": {
      "text/plain": [
       "[<matplotlib.lines.Line2D at 0x7fb2ef5415f8>]"
      ]
     },
     "execution_count": 9,
     "metadata": {},
     "output_type": "execute_result"
    },
    {
     "data": {
      "image/png": "[encoded data removed]",
      "text/plain": [
       "<Figure size 432x288 with 1 Axes>"
      ]
     },
     "metadata": {
      "needs_background": "light"
     },
     "output_type": "display_data"
    }
   ],
   "source": [
    "plt.scatter(y_test,dic_pred['test'])\n",
    "plt.xlabel('orig')\n",
    "plt.ylabel('pred')\n",
    "ident = [-1.5, 2]\n",
    "plt.plot(ident,ident,'r--')"
   ]
  }
 ],
 "metadata": {
  "anaconda-cloud": {},
  "celltoolbar": "Slideshow",
  "kernelspec": {
   "display_name": "Python 3",
   "language": "python",
   "name": "python3"
  },
  "language_info": {
   "codemirror_mode": {
    "name": "ipython",
    "version": 3
   },
   "file_extension": ".py",
   "mimetype": "text/x-python",
   "name": "python",
   "nbconvert_exporter": "python",
   "pygments_lexer": "ipython3",
   "version": "3.6.7"
  }
 },
 "nbformat": 4,
 "nbformat_minor": 2
}
